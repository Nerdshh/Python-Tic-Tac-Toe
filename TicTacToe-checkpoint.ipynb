{
 "cells": [
  {
   "cell_type": "code",
   "execution_count": 1,
   "metadata": {},
   "outputs": [],
   "source": [
    "import sys\n",
    "import random\n",
    "from IPython.display import clear_output\n",
    "\n",
    "# global variables for ease of access\n",
    "# the tic-tac-toe board as a list of \"int\" characters\n",
    "board = ['1', '2', '3', '4', '5', '6', '7', '8', '9']\n",
    "# used to track which players turn it is and when its time to end the game\n",
    "tracker = 0"
   ]
  },
  {
   "cell_type": "code",
   "execution_count": 2,
   "metadata": {},
   "outputs": [],
   "source": [
    "class Player():\n",
    "    \n",
    "    # player object intializes with a name and marker\n",
    "    def __init__(self, name, marker):\n",
    "        self.name = name\n",
    "        self.marker = marker"
   ]
  },
  {
   "cell_type": "code",
   "execution_count": 3,
   "metadata": {},
   "outputs": [],
   "source": [
    "def main():\n",
    "    \n",
    "    # player one default marker is 'X' and player two is 'O'\n",
    "    player_one = Player(\"P1\", 'X')\n",
    "    player_two = Player(\"P2\", 'O')\n",
    "    \n",
    "    print(\"Welcome to Tic-Tac-Toe!\")\n",
    "    \n",
    "    recruit_players(player_one, player_two)\n",
    "        \n",
    "    game_loop(player_one, player_two)"
   ]
  },
  {
   "cell_type": "code",
   "execution_count": 4,
   "metadata": {},
   "outputs": [],
   "source": [
    "def recruit_players(player_one, player_two):\n",
    "    global tracker\n",
    "    \n",
    "    # prompting players to enter their name\n",
    "    name_one = input(\"\\nEnter name for player 1: \")\n",
    "    name_two = input(\"Enter name for player 2: \")\n",
    "    player_one.name = name_one\n",
    "    player_two.name = name_two\n",
    "    \n",
    "    # picks 1 or 2 randomly to decide which player moves first\n",
    "    first_move = random.randrange(1,3,1)\n",
    "    \n",
    "    if first_move == 1:\n",
    "        tracker = 1\n",
    "        print(f'\\n{player_one.name} goes first!\\n')\n",
    "    else:\n",
    "        tracker = 2\n",
    "        print(f'\\n{player_two.name} goes first!\\n')"
   ]
  },
  {
   "cell_type": "code",
   "execution_count": 5,
   "metadata": {},
   "outputs": [],
   "source": [
    "def print_board():\n",
    "    global board\n",
    "    \n",
    "    # prints current board in a nicely formatted manner\n",
    "    print(f'{board[0]}  {board[1]}  {board[2]}')\n",
    "    print(f'{board[3]}  {board[4]}  {board[5]}')\n",
    "    print(f'{board[6]}  {board[7]}  {board[8]}')"
   ]
  },
  {
   "cell_type": "code",
   "execution_count": 6,
   "metadata": {},
   "outputs": [],
   "source": [
    "def player_move(player):\n",
    "    global board, tracker\n",
    "    \n",
    "    # used to exit loop when an appropriate move has been made\n",
    "    run_loop = True\n",
    "    \n",
    "    while run_loop:\n",
    "    \n",
    "        chosen_square = input(\"\\nMake your move: \")\n",
    "\n",
    "        # error validation ensures users enter an integer between 1 and 9\n",
    "        if chosen_square >= '1' and chosen_square <= '9':\n",
    "            chosen_square = int(chosen_square)\n",
    "            \n",
    "            # and that the spot they chose has not already been taken\n",
    "            if board[chosen_square - 1] != 'X' and board[chosen_square - 1] != 'O':\n",
    "                board[chosen_square - 1] = player.marker\n",
    "                run_loop = False\n",
    "                clear_output()\n",
    "            else:\n",
    "                print(\"\\nPlease refrain from stealing positions.\")\n",
    "        else:\n",
    "            print(\"\\nPlease enter a valid input value(1-9).\")"
   ]
  },
  {
   "cell_type": "code",
   "execution_count": 7,
   "metadata": {},
   "outputs": [],
   "source": [
    "def win_condition(player):\n",
    "    global board, tracker\n",
    "    \n",
    "    # checks all possible win solutions\n",
    "    if board[0] == board[1] == board[2] or \\\n",
    "       board[3] == board[4] == board[5] or \\\n",
    "       board[6] == board[7] == board[8] or \\\n",
    "       board[0] == board[3] == board[6] or \\\n",
    "       board[1] == board[4] == board[7] or \\\n",
    "       board[2] == board[5] == board[8] or \\\n",
    "       board[0] == board[4] == board[8] or \\\n",
    "       board[2] == board[4] == board[6]:\n",
    "        print(f'{player.name} wins!\\n')\n",
    "        print_board()\n",
    "        board = ['1', '2', '3', '4', '5', '6', '7', '8', '9']\n",
    "        tracker = 0\n",
    "    # checks for a stalemate condition\n",
    "    elif stalemate():\n",
    "        print('Stalemate!')\n",
    "        tracker = 0\n",
    "    # switches which player's turn it is if game is to continue\n",
    "    elif tracker == 1:\n",
    "        tracker = 2\n",
    "    else:\n",
    "        tracker = 1"
   ]
  },
  {
   "cell_type": "code",
   "execution_count": 8,
   "metadata": {},
   "outputs": [],
   "source": [
    "def stalemate():\n",
    "    global board\n",
    "    \n",
    "    # checks if all spots on the board have been taken\n",
    "    for i in board:\n",
    "        if i.isdigit():\n",
    "            return False\n",
    "        \n",
    "    return True"
   ]
  },
  {
   "cell_type": "code",
   "execution_count": 9,
   "metadata": {},
   "outputs": [],
   "source": [
    "def game_loop(player_one, player_two):\n",
    "    global tracker\n",
    "\n",
    "    # loops the game until there is a winner or stalemate\n",
    "    while tracker != 0:\n",
    "        print_board()\n",
    "    \n",
    "        if tracker == 1:\n",
    "            player_move(player_one)\n",
    "            win_condition(player_one)\n",
    "        else:\n",
    "            player_move(player_two)\n",
    "            win_condition(player_two)"
   ]
  },
  {
   "cell_type": "code",
   "execution_count": 10,
   "metadata": {},
   "outputs": [
    {
     "name": "stdout",
     "output_type": "stream",
     "text": [
      "yesenia wins!\n",
      "\n",
      "X  O  O\n",
      "O  O  X\n",
      "X  X  X\n"
     ]
    }
   ],
   "source": [
    "main()"
   ]
  }
 ],
 "metadata": {
  "kernelspec": {
   "display_name": "Python 3",
   "language": "python",
   "name": "python3"
  },
  "language_info": {
   "codemirror_mode": {
    "name": "ipython",
    "version": 3
   },
   "file_extension": ".py",
   "mimetype": "text/x-python",
   "name": "python",
   "nbconvert_exporter": "python",
   "pygments_lexer": "ipython3",
   "version": "3.7.6"
  }
 },
 "nbformat": 4,
 "nbformat_minor": 4
}
